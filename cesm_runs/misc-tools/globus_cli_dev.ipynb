{
 "cells": [
  {
   "cell_type": "code",
   "execution_count": 2,
   "metadata": {},
   "outputs": [],
   "source": [
    "from subprocess import check_call, Popen, PIPE"
   ]
  },
  {
   "cell_type": "code",
   "execution_count": 26,
   "metadata": {},
   "outputs": [],
   "source": [
    "globus_campaign = '6b5ab960-7bbf-11e8-9450-0a6d4e044368'\n",
    "globus_glade = 'd33b3614-6d04-11e5-ba46-22000b92c6ec'\n",
    "globus_campaign_path = '/gpfs/csfs1/cesm/development/omwg/projects/omip/cases'"
   ]
  },
  {
   "cell_type": "code",
   "execution_count": 28,
   "metadata": {},
   "outputs": [],
   "source": [
    "testdir = '/gpfs/csfs1/cgd/oce/people/mclong/'\n",
    "testfile = '/glade/u/home/mclong/ocn.du'"
   ]
  },
  {
   "cell_type": "code",
   "execution_count": 29,
   "metadata": {},
   "outputs": [],
   "source": [
    "def globus(cmd, arg):\n",
    "    if not isinstance(arg, list):\n",
    "        arg = [arg]\n",
    "    cmd = ['globus', cmd] + arg\n",
    "    print(cmd)\n",
    "    p = Popen(cmd, stdout=PIPE, stderr=PIPE)\n",
    "    stdout, stderr = p.communicate()\n",
    "    stdout = stdout.decode('UTF-8')\n",
    "    stderr = stderr.decode('UTF-8')\n",
    "    ok = p.returncode == 0\n",
    "    print(stdout)\n",
    "    print(stderr)\n",
    "    return ok"
   ]
  },
  {
   "cell_type": "code",
   "execution_count": 30,
   "metadata": {},
   "outputs": [
    {
     "name": "stdout",
     "output_type": "stream",
     "text": [
      "['globus', 'ls', '6b5ab960-7bbf-11e8-9450-0a6d4e044368:/gpfs/csfs1/cgd/oce/people/mclong/']\n",
      "CESM-CAM5-BGC-LE_ME/\n",
      "archive/\n",
      "glade/\n",
      "\n",
      "\n"
     ]
    },
    {
     "data": {
      "text/plain": [
       "True"
      ]
     },
     "execution_count": 30,
     "metadata": {},
     "output_type": "execute_result"
    }
   ],
   "source": [
    "globus('ls', f'{globus_campaign}:{testdir}')"
   ]
  },
  {
   "cell_type": "code",
   "execution_count": 24,
   "metadata": {},
   "outputs": [
    {
     "name": "stdout",
     "output_type": "stream",
     "text": [
      "['globus', 'transfer', 'd33b3614-6d04-11e5-ba46-22000b92c6ec:/glade/u/home/mclong/ocn.du', '6b5ab960-7bbf-11e8-9450-0a6d4e044368:/gpfs/csfs1/cgd/oce/people/mclong///glade/u/home/mclong/ocn.du', '--label', 'CLI single file']\n",
      "Message: The transfer has been accepted and a task has been created and queued for execution\n",
      "Task ID: 74da1380-5b45-11e9-9e6f-0266b1fe9f9e\n",
      "\n",
      "\n"
     ]
    },
    {
     "data": {
      "text/plain": [
       "True"
      ]
     },
     "execution_count": 24,
     "metadata": {},
     "output_type": "execute_result"
    }
   ],
   "source": [
    "globus('transfer', [f'{globus_glade}:{testfile}', f'{globus_campaign}:{testdir}/{testfile}', '--label', 'CLI single file'])\n",
    "\n"
   ]
  },
  {
   "cell_type": "code",
   "execution_count": 32,
   "metadata": {},
   "outputs": [
    {
     "name": "stdout",
     "output_type": "stream",
     "text": [
      "['globus', 'ls', '6b5ab960-7bbf-11e8-9450-0a6d4e044368:/gpfs/csfs1/cesm/development/omwg/projects/omip/cases/case']\n",
      "\n",
      "Globus CLI Error: A Transfer API Error Occurred.\n",
      "HTTP status:      404\n",
      "request_id:       vHHaR0bLy\n",
      "code:             ClientError.NotFound\n",
      "message:          Directory '/gpfs/csfs1/cesm/development/omwg/projects/omip/cases/case' not found on endpoint '6b5ab960-7bbf-11e8-9450-0a6d4e044368'\n",
      "\n",
      "['globus', 'mkdir', '6b5ab960-7bbf-11e8-9450-0a6d4e044368:/gpfs/csfs1/cesm/development/omwg/projects/omip/cases/case']\n",
      "The directory was created successfully\n",
      "\n",
      "\n",
      "['globus', 'ls', '6b5ab960-7bbf-11e8-9450-0a6d4e044368:/gpfs/csfs1/cesm/development/omwg/projects/omip/cases/case/component']\n",
      "\n",
      "Globus CLI Error: A Transfer API Error Occurred.\n",
      "HTTP status:      404\n",
      "request_id:       7QnA3exTx\n",
      "code:             ClientError.NotFound\n",
      "message:          Directory '/gpfs/csfs1/cesm/development/omwg/projects/omip/cases/case/component' not found on endpoint '6b5ab960-7bbf-11e8-9450-0a6d4e044368'\n",
      "\n",
      "['globus', 'mkdir', '6b5ab960-7bbf-11e8-9450-0a6d4e044368:/gpfs/csfs1/cesm/development/omwg/projects/omip/cases/case/component']\n",
      "The directory was created successfully\n",
      "\n",
      "\n",
      "['globus', 'ls', '6b5ab960-7bbf-11e8-9450-0a6d4e044368:/gpfs/csfs1/cesm/development/omwg/projects/omip/cases/case/component/proc']\n",
      "\n",
      "Globus CLI Error: A Transfer API Error Occurred.\n",
      "HTTP status:      404\n",
      "request_id:       mG1KTrdoK\n",
      "code:             ClientError.NotFound\n",
      "message:          Directory '/gpfs/csfs1/cesm/development/omwg/projects/omip/cases/case/component/proc' not found on endpoint '6b5ab960-7bbf-11e8-9450-0a6d4e044368'\n",
      "\n",
      "['globus', 'mkdir', '6b5ab960-7bbf-11e8-9450-0a6d4e044368:/gpfs/csfs1/cesm/development/omwg/projects/omip/cases/case/component/proc']\n",
      "The directory was created successfully\n",
      "\n",
      "\n",
      "['globus', 'ls', '6b5ab960-7bbf-11e8-9450-0a6d4e044368:/gpfs/csfs1/cesm/development/omwg/projects/omip/cases/case/component/proc/tseries']\n",
      "\n",
      "Globus CLI Error: A Transfer API Error Occurred.\n",
      "HTTP status:      404\n",
      "request_id:       UJuyxNpVU\n",
      "code:             ClientError.NotFound\n",
      "message:          Directory '/gpfs/csfs1/cesm/development/omwg/projects/omip/cases/case/component/proc/tseries' not found on endpoint '6b5ab960-7bbf-11e8-9450-0a6d4e044368'\n",
      "\n",
      "['globus', 'mkdir', '6b5ab960-7bbf-11e8-9450-0a6d4e044368:/gpfs/csfs1/cesm/development/omwg/projects/omip/cases/case/component/proc/tseries']\n",
      "The directory was created successfully\n",
      "\n",
      "\n"
     ]
    }
   ],
   "source": [
    "additions = ['case', 'component', 'proc', 'tseries']\n",
    "campaign_dout = f'{globus_campaign}:{globus_campaign_path}'\n",
    "\n",
    "for add in additions:\n",
    "    campaign_dout = f'{campaign_dout}/{add}'\n",
    "    if not globus('ls', campaign_dout):\n",
    "        globus('mkdir', campaign_dout)\n",
    "        "
   ]
  },
  {
   "cell_type": "code",
   "execution_count": 20,
   "metadata": {},
   "outputs": [
    {
     "name": "stdout",
     "output_type": "stream",
     "text": [
      "0\n"
     ]
    }
   ],
   "source": [
    "import fnmatch\n",
    "cmd = ['globus', 'ls', '6b5ab960-7bbf-11e8-9450-0a6d4e044368:/gpfs/csfs1/cesm/development/omwg/projects/omip/cases/g.e21.G1850ECOIAF.T62_g17.002/ocn/proc/tseries/year_1']\n",
    "p = Popen(cmd, stdout=PIPE, stderr=PIPE)\n",
    "\n",
    "stdout, stderr = p.communicate()\n",
    "print(p.returncode)\n",
    "stdout = stdout.decode('UTF-8')\n",
    "stderr = stderr.decode('UTF-8')\n",
    "globus_file_list = [f for f in stdout.split('\\n') if fnmatch.fnmatch(f, '*.nc')]"
   ]
  },
  {
   "cell_type": "code",
   "execution_count": 21,
   "metadata": {},
   "outputs": [
    {
     "data": {
      "text/plain": [
       "[]"
      ]
     },
     "execution_count": 21,
     "metadata": {},
     "output_type": "execute_result"
    }
   ],
   "source": [
    "globus_file_list"
   ]
  },
  {
   "cell_type": "code",
   "execution_count": 12,
   "metadata": {},
   "outputs": [
    {
     "ename": "Exception",
     "evalue": "as",
     "output_type": "error",
     "traceback": [
      "\u001b[0;31m---------------------------------------------------------------------------\u001b[0m",
      "\u001b[0;31mException\u001b[0m                                 Traceback (most recent call last)",
      "\u001b[0;32m<ipython-input-12-af066d9100d8>\u001b[0m in \u001b[0;36m<module>\u001b[0;34m\u001b[0m\n\u001b[0;32m----> 1\u001b[0;31m \u001b[0;32mraise\u001b[0m \u001b[0mException\u001b[0m\u001b[0;34m(\u001b[0m\u001b[0;34m\"as\"\u001b[0m\u001b[0;34m)\u001b[0m\u001b[0;34m\u001b[0m\u001b[0;34m\u001b[0m\u001b[0m\n\u001b[0m",
      "\u001b[0;31mException\u001b[0m: as"
     ]
    }
   ],
   "source": [
    "raise Exception(\"as\")"
   ]
  },
  {
   "cell_type": "code",
   "execution_count": null,
   "metadata": {},
   "outputs": [],
   "source": []
  }
 ],
 "metadata": {
  "kernelspec": {
   "display_name": "Python 3",
   "language": "python",
   "name": "python3"
  },
  "language_info": {
   "codemirror_mode": {
    "name": "ipython",
    "version": 3
   },
   "file_extension": ".py",
   "mimetype": "text/x-python",
   "name": "python",
   "nbconvert_exporter": "python",
   "pygments_lexer": "ipython3",
   "version": "3.7.1"
  }
 },
 "nbformat": 4,
 "nbformat_minor": 2
}
